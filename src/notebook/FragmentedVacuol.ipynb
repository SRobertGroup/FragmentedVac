{
 "cells": [
  {
   "cell_type": "markdown",
   "id": "05bbde8b-bc9f-4800-ab56-362d0482544f",
   "metadata": {},
   "source": [
    "# Single Cell with Fragmented or Fused Vacuole\n",
    "\n",
    "This notebook contains the Finite Element Modeling (FEM) analysis code used to investigate stress and strain distribution \n",
    "in a 2D mesh representing a single cell with fragmented or fused vacuole, segmented into three subdomains: the cell wall, the interface between cells, and the symplast.\n",
    "\n",
    "> **Note**  \n",
    "> This notebook is designed to run within a *fracvac_env* environment.   \n",
    "\n",
    "### Libraries and Dependencies  \n",
    "\n",
    "All relevant **bvpy** (v.1.3.0) functions and classes required for this analysis are loaded by sourcing `lib_fun`.  \n",
    "\n",
    "> **Important**  \n",
    "> File paths for input and output functions (`io_function`) are relative to the directory from which this notebook is executed. In this case, the notebook should be opened from the `notebook` folder."
   ]
  },
  {
   "cell_type": "code",
   "execution_count": null,
   "id": "c180ca12",
   "metadata": {},
   "outputs": [],
   "source": [
    "import sys\n",
    "import os\n",
    "\n",
    "# Add the directory where function.py is located to the Python path\n",
    "sys.path.append(os.path.expanduser(\"../function/\"))\n",
    "\n",
    "from lib_fun import *"
   ]
  },
  {
   "cell_type": "markdown",
   "id": "f766b0bf-8d1b-46c9-b127-842c51104de1",
   "metadata": {},
   "source": [
    "### Generating the Mesh\n",
    "\n",
    "Once the required libraries are loaded, the next step is to generate the mesh.\n",
    "\n",
    "> **Note**  \n",
    "> - The `generate_mesh()` function uses **GMSH** to create `.msh` files from `.geo` files, which define the physical surface attributes.  \n",
    "> - The `CustomDomainGMSH()` function reads the `.msh` files and converts the data into a format compatible with **bvpy**."
   ]
  },
  {
   "cell_type": "code",
   "execution_count": null,
   "id": "f2fe8ae6",
   "metadata": {},
   "outputs": [],
   "source": [
    "mesh_file = '../../data/in/single_cell_fvac.geo'\n",
    "initial_scale = 0.05\n",
    "generate_mesh(mesh_file, initial_scale)\n",
    "mesh_path = '../../data/in/single_cell_fvac.msh'\n",
    "fvac = CustomDomainGmsh(fname=mesh_path)\n"
   ]
  },
  {
   "cell_type": "code",
   "execution_count": null,
   "id": "18a0a5d9",
   "metadata": {},
   "outputs": [],
   "source": [
    "mesh_file = '../../data/in/single_cell_hvac.geo'\n",
    "initial_scale = 0.05\n",
    "generate_mesh(mesh_file, initial_scale)\n",
    "mesh_path = '../../data/in/single_cell_hvac.msh'\n",
    "hvac = CustomDomainGmsh(fname = mesh_path)"
   ]
  },
  {
   "cell_type": "markdown",
   "id": "0f3eb47d-1d79-473d-a445-57cb133f5e33",
   "metadata": {},
   "source": [
    "### Visualizing the Mesh\n",
    "\n",
    "To ensure the mesh has been correctly loaded and interpreted, you can visualize it using the following command:"
   ]
  },
  {
   "cell_type": "code",
   "execution_count": null,
   "id": "9e4bce5f",
   "metadata": {},
   "outputs": [],
   "source": [
    "plot(fvac.cdata)\n",
    "plot(hvac.cdata)"
   ]
  },
  {
   "cell_type": "markdown",
   "id": "e552b02e-206a-45d7-b525-fba288ec8f1d",
   "metadata": {},
   "source": [
    "### Locate the mesh nodes related to the boundary conditions"
   ]
  },
  {
   "cell_type": "code",
   "execution_count": null,
   "id": "24009852",
   "metadata": {},
   "outputs": [],
   "source": [
    "import numpy as np\n",
    "# Boundaries condition            \n",
    "\n",
    "xmax = hvac.mesh.coordinates()[:, 0].max()\n",
    "xmin = hvac.mesh.coordinates()[:, 0].min()\n",
    "ymax = hvac.mesh.coordinates()[:, 1].max()\n",
    "ymin = hvac.mesh.coordinates()[:, 1].min()\n",
    "ymed = np.median(hvac.mesh.coordinates()[:, 1])\n",
    "\n",
    "left_border = Boundary(f'near(x, {xmin})') \n",
    "right_border = Boundary(f'near(x, {xmax})') \n",
    "bottom_border = Boundary(f'near(y, {ymin})')\n",
    "top_border = Boundary(f'near(y, {ymax})')\n",
    "\n",
    "fix = Boundary(f'near(y, {ymed} )')\n",
    "fixy = (right_border | left_border) & fix \n",
    "\n",
    "all_borders = Boundary('all')\n",
    "vacuol_borders = all_borders & ~ left_border & ~ right_border & ~ top_border & ~ bottom_border"
   ]
  },
  {
   "cell_type": "markdown",
   "id": "ef74b735-791d-48e0-900c-a942fa0df2ff",
   "metadata": {},
   "source": [
    "### Setting Boundary Conditions and Material Properties\n",
    "\n",
    "In the following cell, we define the boundary conditions, material properties, and the governing equations for the simulation. These parameters control how the mesh responds to external forces, displacements, and internal material properties.\n",
    "\n",
    "#### Boundary Conditions\n",
    "\n",
    "The boundary conditions are implemented using:\n",
    "- `dirichlet`: Fixes specific displacement values at defined boundaries.\n",
    "- `NormalNeumann`: apply pressure.  \n",
    "\n",
    "#### Material Properties\n",
    "- **Poisson's Ratio (`poiss`)**: Specifies the material's lateral expansion relative to its longitudinal compression.  \n",
    "- **Young's Modulus (`young_values_by_labels`)**: Defines the stiffness of each subdomain, with values assigned based on the subdomain label:\n",
    "    - **1** is the cell wall domain\n",
    "    - **2** is the symplast domain\n",
    "    - **3** is the interface between cells\n",
    "\n",
    "#### Governing Equations\n",
    "- The **StVenantKirchoffPotential** is used to define the strain-energy density function ie. the material's nonlinear elastic behavior. This is essential for simulating realistic large deformations.\n",
    "$$\n",
    "\\mathcal{E}_{\\text{SVK}} = \\frac{\\lambda}{2} \\text{tr}(\\boldsymbol{E})^2 + \\mu\\text{tr}(\\boldsymbol{E}^2)\n",
    "$$\n",
    "\n",
    "where $\\lambda, \\mu$ are coefficients, $\\boldsymbol{E}$ stands for the **Euler-Lagrange** strain tensor and $\\boldsymbol{F}$ the deformation gradient.\n",
    "- Plane stress conditions are assumed for this 2D analysis.  \n",
    "\n",
    "#### Nonlinear Boundary Value Problem (BVP)\n",
    "The `BVP` class is used to set up and solve the system, combining the domain, variational formulation, and boundary conditions into a single framework. The `nl_fragmented` or `nl_whole` object encapsulates this setup for each vacuol configuration."
   ]
  },
  {
   "cell_type": "code",
   "execution_count": null,
   "id": "07dafc0a",
   "metadata": {},
   "outputs": [],
   "source": [
    "poiss = 0.3\n",
    "TP = 0.075\n",
    "frac_pressure = [NormalNeumann(val=-TP*0.336977, boundary=vacuol_borders),\n",
    "                 dirichlet(0, boundary=right_border, subspace=0),\n",
    "                 dirichlet(0, boundary=right_border, subspace=2),\n",
    "                 dirichlet(0, boundary=left_border, subspace=0),\n",
    "                 dirichlet(0, boundary=left_border, subspace=2), \n",
    "                 dirichlet(0, boundary=fixy, subspace = 1)]\n",
    "\n",
    "whole_pressure = [NormalNeumann(val=-TP, boundary=vacuol_borders),\n",
    "                 dirichlet(0, boundary=right_border, subspace=0),\n",
    "                 dirichlet(0, boundary=right_border, subspace=2),\n",
    "                 dirichlet(0, boundary=left_border, subspace=0),\n",
    "                 dirichlet(0, boundary=left_border, subspace=2), \n",
    "                 dirichlet(0, boundary=fixy, subspace = 1)]\n",
    "\n",
    "young_values_by_labels = {1:100, 2:1,3:1}\n",
    "f_heterogeneous_young = HeterogeneousParameter(fvac.cdata, young_values_by_labels)\n",
    "h_heterogeneous_young = HeterogeneousParameter(hvac.cdata, young_values_by_labels)\n",
    "elastic_potential_f = StVenantKirchoffPotential(young=f_heterogeneous_young, poisson=poiss)\n",
    "elastic_potential_h = StVenantKirchoffPotential(young=h_heterogeneous_young, poisson=poiss)\n",
    "\n",
    "f_heterogeneous_Hyperelastic_response = HyperElasticForm(potential_energy=elastic_potential_f, source=[0., 0., 0.],\n",
    "                                                       plane_stress=True)\n",
    "\n",
    "h_heterogeneous_Hyperelastic_response = HyperElasticForm(potential_energy=elastic_potential_h, source=[0., 0., 0.],\n",
    "                                                       plane_stress=True)\n",
    "\n",
    "nl_fragmented = BVP(domain=fvac, vform=f_heterogeneous_Hyperelastic_response, bc=frac_pressure)\n",
    "nl_whole = BVP(domain=hvac, vform=h_heterogeneous_Hyperelastic_response, bc=whole_pressure)"
   ]
  },
  {
   "cell_type": "markdown",
   "id": "b7836fd3-3944-49d5-aba7-326c790e22ad",
   "metadata": {},
   "source": [
    "### Solving the Nonlinear System\n",
    "\n",
    "In this next step, we solve the nonlinear system representing the deformation of the mesh. The goal is to iteratively compute the equilibrium configuration of the mesh.\n",
    "\n",
    "#### Solver Configuration:\n",
    "- **`tolerance`**: Determines the precision of the solution. Both absolute and relative tolerances are set to `1e-9` to ensure high accuracy in the total convergence process. \n",
    "- **`nl.solve()`**: This method solves the nonlinear boundary value problem using iterative algorithms.  \n",
    "- **`linear_solver='mumps'`**: Specifies the use of the mumps linear solver for efficient and robust performance.  "
   ]
  },
  {
   "cell_type": "code",
   "execution_count": null,
   "id": "1f174dc7",
   "metadata": {},
   "outputs": [],
   "source": [
    "tolerance = 1e-9\n",
    "nl_fragmented.solve(linear_solver='mumps', krylov_solver={'absolute_tolerance':1e-13}, absolute_tolerance=tolerance, relative_tolerance=tolerance)\n",
    "solu_frac = nl_fragmented.solution\n",
    "xdmf_save(path='../../data/out/fvac_force.xdmf', solution=solu_frac, vform=f_heterogeneous_Hyperelastic_response)\n",
    "\n",
    "nl_whole.solve(linear_solver='mumps', krylov_solver={'absolute_tolerance':1e-13}, absolute_tolerance=tolerance, relative_tolerance=tolerance)\n",
    "solu_whole = nl_whole.solution\n",
    "xdmf_save(path='../../data/out/hvac_force.xdmf', solution=solu_whole, vform=h_heterogeneous_Hyperelastic_response)"
   ]
  },
  {
   "cell_type": "code",
   "execution_count": null,
   "id": "8f5fcddb",
   "metadata": {},
   "outputs": [],
   "source": [
    "plot(solu_frac, size = 1)\n",
    "plot(solu_whole, size = 1)"
   ]
  },
  {
   "cell_type": "code",
   "execution_count": null,
   "id": "09733f89",
   "metadata": {},
   "outputs": [],
   "source": [
    "\n",
    "frac_pressure = [NormalNeumann(val=-TP, boundary=vacuol_borders),\n",
    "                 dirichlet(0, boundary=right_border, subspace=0),\n",
    "                 dirichlet(0, boundary=right_border, subspace=2),\n",
    "                 dirichlet(0, boundary=left_border, subspace=0),\n",
    "                 dirichlet(0, boundary=left_border, subspace=2), \n",
    "                 dirichlet(0, boundary=fixy, subspace = 1)]\n",
    "\n",
    "whole_pressure = [NormalNeumann(val=-TP, boundary=vacuol_borders),\n",
    "                 dirichlet(0, boundary=right_border, subspace=0),\n",
    "                 dirichlet(0, boundary=right_border, subspace=2),\n",
    "                 dirichlet(0, boundary=left_border, subspace=0),\n",
    "                 dirichlet(0, boundary=left_border, subspace=2), \n",
    "                 dirichlet(0, boundary=fixy, subspace = 1)]\n",
    "\n",
    "young_values_by_labels = {1:100, 2:1,3:1}\n",
    "f_heterogeneous_young = HeterogeneousParameter(fvac.cdata, young_values_by_labels)\n",
    "h_heterogeneous_young = HeterogeneousParameter(hvac.cdata, young_values_by_labels)\n",
    "elastic_potential_f = StVenantKirchoffPotential(young=f_heterogeneous_young, poisson=poiss)\n",
    "elastic_potential_h = StVenantKirchoffPotential(young=h_heterogeneous_young, poisson=poiss)\n",
    "\n",
    "f_heterogeneous_Hyperelastic_response = HyperElasticForm(potential_energy=elastic_potential_f, source=[0., 0., 0.],\n",
    "                                                       plane_stress=True)\n",
    "\n",
    "h_heterogeneous_Hyperelastic_response = HyperElasticForm(potential_energy=elastic_potential_h, source=[0., 0., 0.],\n",
    "                                                       plane_stress=True)\n",
    "\n",
    "nl_fragmented = BVP(domain=fvac, vform=f_heterogeneous_Hyperelastic_response, bc=frac_pressure)\n",
    "nl_whole = BVP(domain=hvac, vform=h_heterogeneous_Hyperelastic_response, bc=whole_pressure)   \n",
    "\n",
    "tolerance = 1e-9\n",
    "nl_fragmented.solve(linear_solver='mumps', krylov_solver={'absolute_tolerance':1e-13}, absolute_tolerance=tolerance, relative_tolerance=tolerance)\n",
    "solu_frac = nl_fragmented.solution\n",
    "xdmf_save(path='../../data/out/fvac_pressure.xdmf', solution=solu_frac, vform=f_heterogeneous_Hyperelastic_response)\n",
    "\n",
    "nl_whole.solve(linear_solver='mumps', krylov_solver={'absolute_tolerance':1e-13}, absolute_tolerance=tolerance, relative_tolerance=tolerance)\n",
    "solu_whole = nl_whole.solution\n",
    "xdmf_save(path='../../data/out/hvac_pressure.xdmf', solution=solu_whole, vform=h_heterogeneous_Hyperelastic_response)"
   ]
  },
  {
   "cell_type": "markdown",
   "id": "2dbad93f-49de-4b3f-83f7-e0b25078a233",
   "metadata": {},
   "source": [
    "### Testing a range of Turgor pressure"
   ]
  },
  {
   "cell_type": "code",
   "execution_count": null,
   "id": "e9e4755c-f624-475e-a722-095a0af08618",
   "metadata": {},
   "outputs": [],
   "source": [
    "tolerance = 1e-9\n",
    "for i in range(28):\n",
    "    TP = (i+3)*0.0025\n",
    "\n",
    "    frac_pressure = [NormalNeumann(val=-TP, boundary=vacuol_borders),\n",
    "                 dirichlet(0, boundary=right_border, subspace=0),\n",
    "                 dirichlet(0, boundary=right_border, subspace=2),\n",
    "                 dirichlet(0, boundary=left_border, subspace=0),\n",
    "                 dirichlet(0, boundary=left_border, subspace=2), \n",
    "                 dirichlet(0, boundary=fixy, subspace = 1)]\n",
    "\n",
    "    whole_pressure = [NormalNeumann(val=-TP, boundary=vacuol_borders),\n",
    "                 dirichlet(0, boundary=right_border, subspace=0),\n",
    "                 dirichlet(0, boundary=right_border, subspace=2),\n",
    "                 dirichlet(0, boundary=left_border, subspace=0),\n",
    "                 dirichlet(0, boundary=left_border, subspace=2), \n",
    "                 dirichlet(0, boundary=fixy, subspace = 1)]\n",
    "\n",
    "    young_values_by_labels = {1:100, 2:1,3:1}\n",
    "    f_heterogeneous_young = HeterogeneousParameter(fvac.cdata, young_values_by_labels)\n",
    "    h_heterogeneous_young = HeterogeneousParameter(hvac.cdata, young_values_by_labels)\n",
    "    elastic_potential_f = StVenantKirchoffPotential(young=f_heterogeneous_young, poisson=poiss)\n",
    "    elastic_potential_h = StVenantKirchoffPotential(young=h_heterogeneous_young, poisson=poiss)\n",
    "\n",
    "    f_heterogeneous_Hyperelastic_response = HyperElasticForm(potential_energy=elastic_potential_f, source=[0., 0., 0.],\n",
    "                                                       plane_stress=True)\n",
    "\n",
    "    h_heterogeneous_Hyperelastic_response = HyperElasticForm(potential_energy=elastic_potential_h, source=[0., 0., 0.],\n",
    "                                                       plane_stress=True)\n",
    "    nl_fragmented_pressure = BVP(domain=fvac, vform=f_heterogeneous_Hyperelastic_response, bc=frac_pressure)\n",
    "    nl_whole = BVP(domain=hvac, vform=h_heterogeneous_Hyperelastic_response, bc=whole_pressure)\n",
    "    \n",
    "    file_name_p = f\"../../data/out/fvac_Pressure_{TP}.xdmf\"\n",
    "    file_name_h = f\"../../data/out/hvac_Pressure_{TP}.xdmf\"\n",
    "    \n",
    "    nl_fragmented_pressure.solve(linear_solver='mumps', krylov_solver={'absolute_tolerance':1e-13}, absolute_tolerance=tolerance, relative_tolerance=tolerance)\n",
    "    solu_frac = nl_fragmented_pressure.solution\n",
    "    xdmf_save(path=file_name_p, solution=solu_frac, vform=f_heterogeneous_Hyperelastic_response)\n",
    "    del nl_fragmented_pressure\n",
    "    del solu_frac\n",
    "\n",
    "    nl_whole.solve(linear_solver='mumps', krylov_solver={'absolute_tolerance':1e-13}, absolute_tolerance=tolerance, relative_tolerance=tolerance)\n",
    "    solu_whole = nl_whole.solution\n",
    "    xdmf_save(path=file_name_h, solution=solu_whole, vform=h_heterogeneous_Hyperelastic_response)\n",
    "    del nl_whole\n",
    "    del solu_whole"
   ]
  }
 ],
 "metadata": {
  "kernelspec": {
   "display_name": "Python 3 (ipykernel)",
   "language": "python",
   "name": "python3"
  },
  "language_info": {
   "codemirror_mode": {
    "name": "ipython",
    "version": 3
   },
   "file_extension": ".py",
   "mimetype": "text/x-python",
   "name": "python",
   "nbconvert_exporter": "python",
   "pygments_lexer": "ipython3",
   "version": "3.9.21"
  }
 },
 "nbformat": 4,
 "nbformat_minor": 5
}
